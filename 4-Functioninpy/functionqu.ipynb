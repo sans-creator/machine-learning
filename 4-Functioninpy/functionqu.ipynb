{
 "cells": [
  {
   "cell_type": "code",
   "execution_count": 1,
   "id": "00ee03b9",
   "metadata": {},
   "outputs": [
    {
     "name": "stdout",
     "output_type": "stream",
     "text": [
      "strong password\n"
     ]
    }
   ],
   "source": [
    "passw=input(\"Enter your password: \")\n",
    "def check_password_strength(password):\n",
    "    if len(password)<8:\n",
    "        return \"weak password\"\n",
    "    if not any (i.isdigit() for i in password):\n",
    "        return \"weak password\"\n",
    "    if not any (i.islower() for i in password):\n",
    "        return \"weak password\"\n",
    "    if not any (i.isupper() for i in password):\n",
    "        return \"weak password\" \n",
    "    if not any (i in '!@#%^&(*)' for i in password ):\n",
    "        return \"weak password\" \n",
    "        \n",
    "    return \"strong password\"\n",
    "\n",
    "print(check_password_strength(passw))  "
   ]
  },
  {
   "cell_type": "markdown",
   "id": "b99e250b",
   "metadata": {},
   "source": [
    "### toatl shopping cost\n"
   ]
  },
  {
   "cell_type": "code",
   "execution_count": 6,
   "id": "cbede6c1",
   "metadata": {},
   "outputs": [
    {
     "name": "stdout",
     "output_type": "stream",
     "text": [
      "48\n"
     ]
    }
   ],
   "source": [
    "def calculate(cart):\n",
    "    total_cost=0\n",
    "    for i in cart:\n",
    "        total_cost+=i['price']*i['qantity']\n",
    "\n",
    "    return total_cost\n",
    "\n",
    "\n",
    "\n",
    "\n",
    "cart=[\n",
    "    {'name':'apple','price':5,'qantity':4},\n",
    "    {'name':'banana','price':2,'qantity':6},\n",
    "    {'name':'orange','price':4,'qantity':4}\n",
    "    ]\n",
    "\n",
    "print(calculate(cart))    "
   ]
  },
  {
   "cell_type": "markdown",
   "id": "0ea70893",
   "metadata": {},
   "source": [
    "### palindrome string"
   ]
  },
  {
   "cell_type": "code",
   "execution_count": null,
   "id": "a6164320",
   "metadata": {},
   "outputs": [
    {
     "name": "stdout",
     "output_type": "stream",
     "text": [
      "not palin\n"
     ]
    }
   ],
   "source": [
    "def check_palin(stri):\n",
    "    ### s.lower.replace(\" \",\"\") saare space ko remove kiya hai aur sabko lower kiya hai.\n",
    "    str1=stri\n",
    "    rev=str1[::-1]\n",
    "    if(rev==stri):\n",
    "        return \"string is palin\"\n",
    "    else:\n",
    "        return \"not palin\"\n",
    "\n",
    "\n",
    "stri=input(\"enetr string\")\n",
    "print(check_palin(stri))            "
   ]
  },
  {
   "cell_type": "markdown",
   "id": "70163f4d",
   "metadata": {},
   "source": [
    "A function to red a file and count the freq of each word"
   ]
  },
  {
   "cell_type": "code",
   "execution_count": null,
   "id": "cb4283ba",
   "metadata": {},
   "outputs": [],
   "source": []
  },
  {
   "cell_type": "code",
   "execution_count": null,
   "id": "05ea8cd5",
   "metadata": {},
   "outputs": [],
   "source": [
    "def count_word(file_path):\n",
    "    word_count={}\n",
    "    with open(file_path,'r') as file:\n",
    "        for line in file:\n",
    "            words=line.split()\n",
    "            for words in word:\n",
    "                word=word.lower().strip('.,!?)\n",
    "                word_count[word]"
   ]
  }
 ],
 "metadata": {
  "kernelspec": {
   "display_name": "Python 3",
   "language": "python",
   "name": "python3"
  },
  "language_info": {
   "codemirror_mode": {
    "name": "ipython",
    "version": 3
   },
   "file_extension": ".py",
   "mimetype": "text/x-python",
   "name": "python",
   "nbconvert_exporter": "python",
   "pygments_lexer": "ipython3",
   "version": "3.10.17"
  }
 },
 "nbformat": 4,
 "nbformat_minor": 5
}
