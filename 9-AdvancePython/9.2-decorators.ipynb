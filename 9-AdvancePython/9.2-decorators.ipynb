{
 "cells": [
  {
   "cell_type": "code",
   "execution_count": 3,
   "id": "cc6ebcb7",
   "metadata": {},
   "outputs": [],
   "source": [
    "def  main_welcome(func):\n",
    "     def sub_welcome_method():\n",
    "        print(\"welcome to advance python code\")\n",
    "        func()\n",
    "        print(\"plese lear\")\n",
    "     return sub_welcome_method()\n",
    "\n"
   ]
  },
  {
   "cell_type": "code",
   "execution_count": 4,
   "id": "ed2508b8",
   "metadata": {},
   "outputs": [
    {
     "name": "stdout",
     "output_type": "stream",
     "text": [
      "this ia an advance python course\n"
     ]
    }
   ],
   "source": [
    "def course_introduction():\n",
    "    print(\"this ia an advance python course\")\n",
    "\n",
    "course_introduction()"
   ]
  },
  {
   "cell_type": "code",
   "execution_count": 5,
   "id": "7573b85e",
   "metadata": {},
   "outputs": [
    {
     "name": "stdout",
     "output_type": "stream",
     "text": [
      "welcome to advance python code\n",
      "this ia an advance python course\n",
      "plese lear\n"
     ]
    }
   ],
   "source": [
    "main_welcome(course_introduction)"
   ]
  },
  {
   "cell_type": "code",
   "execution_count": null,
   "id": "a84890a8",
   "metadata": {},
   "outputs": [
    {
     "name": "stdout",
     "output_type": "stream",
     "text": [
      "welcome to advance python code\n",
      "this ia an advance python course\n",
      "plese lear\n"
     ]
    }
   ],
   "source": [
    "@main_welcome  ##iska mtlb course wala function decorator wale function k andar hayega\n",
    "def course_introduction():\n",
    "    print(\"this ia an advance python course\")\n",
    "\n"
   ]
  },
  {
   "cell_type": "markdown",
   "id": "fa863183",
   "metadata": {},
   "source": [
    "### method 1--EITHER CALL THE FUNCTION AND GIVE ARGUMENT OF OTHER FUNCTION"
   ]
  },
  {
   "cell_type": "markdown",
   "id": "b6bc6602",
   "metadata": {},
   "source": [
    "### method2-- OR USE DECOATOR,,,, MAKE DECORATOR JISKE ANDAR FUNCTION JANA HAI AUR USKE NEECHE USKO LIKHO JO USKA ARGUMENT HAI"
   ]
  },
  {
   "cell_type": "code",
   "execution_count": 7,
   "id": "a0d4cc2b",
   "metadata": {},
   "outputs": [],
   "source": [
    "##decorort\n",
    "\n",
    "def my_decortor(func):\n",
    "    def wrapper():\n",
    "        print(\"before functionn call\")\n",
    "        func()\n",
    "        print(\"after func call\")\n",
    "    return wrapper    \n"
   ]
  },
  {
   "cell_type": "code",
   "execution_count": 8,
   "id": "f87e07da",
   "metadata": {},
   "outputs": [
    {
     "name": "stdout",
     "output_type": "stream",
     "text": [
      "before functionn call\n",
      "hello\n",
      "after func call\n"
     ]
    }
   ],
   "source": [
    "@my_decortor\n",
    "def say_hello():\n",
    "    print(\"hello\")\n",
    "\n",
    "say_hello()"
   ]
  },
  {
   "cell_type": "code",
   "execution_count": null,
   "id": "c31b0204",
   "metadata": {},
   "outputs": [],
   "source": [
    "#decoator with argument\n"
   ]
  }
 ],
 "metadata": {
  "kernelspec": {
   "display_name": "Python 3",
   "language": "python",
   "name": "python3"
  },
  "language_info": {
   "codemirror_mode": {
    "name": "ipython",
    "version": 3
   },
   "file_extension": ".py",
   "mimetype": "text/x-python",
   "name": "python",
   "nbconvert_exporter": "python",
   "pygments_lexer": "ipython3",
   "version": "3.10.17"
  }
 },
 "nbformat": 4,
 "nbformat_minor": 5
}
