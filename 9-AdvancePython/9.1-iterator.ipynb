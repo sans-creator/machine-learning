{
 "cells": [
  {
   "cell_type": "code",
   "execution_count": 3,
   "id": "58feef4c",
   "metadata": {},
   "outputs": [
    {
     "name": "stdout",
     "output_type": "stream",
     "text": [
      "0\n",
      "1\n",
      "4\n"
     ]
    }
   ],
   "source": [
    "def square(n):\n",
    "    for i in range(3):\n",
    "        yield i**2\n",
    "\n",
    "for i in  square(3):\n",
    "    print(i)     "
   ]
  },
  {
   "cell_type": "code",
   "execution_count": 5,
   "id": "1b5e5311",
   "metadata": {},
   "outputs": [
    {
     "name": "stdout",
     "output_type": "stream",
     "text": [
      "<generator object square at 0x0000028A12C90270>\n"
     ]
    }
   ],
   "source": [
    "#method 2\n",
    "a=square(3)\n",
    "print(a)\n"
   ]
  },
  {
   "cell_type": "code",
   "execution_count": 9,
   "id": "3d913787",
   "metadata": {},
   "outputs": [
    {
     "ename": "StopIteration",
     "evalue": "",
     "output_type": "error",
     "traceback": [
      "\u001b[1;31m---------------------------------------------------------------------------\u001b[0m",
      "\u001b[1;31mStopIteration\u001b[0m                             Traceback (most recent call last)",
      "Cell \u001b[1;32mIn[9], line 1\u001b[0m\n\u001b[1;32m----> 1\u001b[0m \u001b[38;5;28;43mnext\u001b[39;49m\u001b[43m(\u001b[49m\u001b[43ma\u001b[49m\u001b[43m)\u001b[49m\n",
      "\u001b[1;31mStopIteration\u001b[0m: "
     ]
    }
   ],
   "source": [
    "next(a)"
   ]
  },
  {
   "cell_type": "markdown",
   "id": "44a9c436",
   "metadata": {},
   "source": [
    "### Reading Large Files---because theyy allow to process one line at a time without loading the entire file to memory"
   ]
  },
  {
   "cell_type": "code",
   "execution_count": 17,
   "id": "9317b3f8",
   "metadata": {},
   "outputs": [
    {
     "name": "stdout",
     "output_type": "stream",
     "text": [
      "Although vested with these powers by the Constitution of India, the position is largely a ceremonial one and executive powers are de facto exercised by the prime minister.[3]\n",
      "\n",
      "The president is elected by the Electoral College composed of elected members of the parliament houses, the Lok Sabha and the Rajya Sabha, and also members of the Saasana Sabha or Vidhan Sabha, the state legislative assemblies.[2] Presidents may remain in office for a tenure of five years, as stated by article 56, part V, of the Constitution of India. In the case where a president's term of office is terminated early or during the absence of the president, the vice president assumes office. By article 70 of part V, the parliament may decide how to discharge the functions of the president where this is not possible, or in any other unexpected contingency.\n",
      "\n",
      "There have been 15 presidents of India since the post was established when India was declared as a republic with the adoption of the Indian constitution in 1950.[4] Apart from these fifteen, three acting presidents have also been in office for short periods of time. V. V. Giri became the acting president in 1969 after Zakir Husain died in office. Giri was elected president a few months later. He remains the only person to have held office both as a president and acting president. Rajendra Prasad, the first president of India, is the only person to have held office for two terms.[5]\n",
      "\n",
      "Seven presidents have been members of a political party before being elected. Six of these were active party members of the Indian National Congress. The Janata Party has had one member, Neelam Sanjiva Reddy, who later became president. Two presidents, Zakir Husain and Fakhruddin Ali Ahmed, have died in office. Their vice presidents served as acting presidents until a new president was elected. Following Zakir Husain's death, two acting presidents held office until the new president, V. V. Giri, was elected. When Giri resigned to take part in the presidential elections, he was succeeded by Mohammad Hidayatullah as acting president.[6] Pratibha Patil is the first woman to hold the office, elected in 2007.\n"
     ]
    }
   ],
   "source": [
    "def read_large_file(file_path):\n",
    "    with open(file_path,'r') as f:\n",
    "        for i in f:\n",
    "            yield i\n",
    "\n",
    "file_path='large_file.txt'\n",
    "for i in read_large_file(file_path):\n",
    "    print(i.strip())\n"
   ]
  },
  {
   "cell_type": "code",
   "execution_count": null,
   "id": "7631334e",
   "metadata": {},
   "outputs": [],
   "source": []
  },
  {
   "cell_type": "code",
   "execution_count": null,
   "id": "51f78e87",
   "metadata": {},
   "outputs": [],
   "source": []
  },
  {
   "cell_type": "code",
   "execution_count": null,
   "id": "cdaa2fe8",
   "metadata": {},
   "outputs": [],
   "source": []
  },
  {
   "cell_type": "code",
   "execution_count": null,
   "id": "c9562ceb",
   "metadata": {},
   "outputs": [],
   "source": []
  }
 ],
 "metadata": {
  "kernelspec": {
   "display_name": "Python 3",
   "language": "python",
   "name": "python3"
  },
  "language_info": {
   "codemirror_mode": {
    "name": "ipython",
    "version": 3
   },
   "file_extension": ".py",
   "mimetype": "text/x-python",
   "name": "python",
   "nbconvert_exporter": "python",
   "pygments_lexer": "ipython3",
   "version": "3.10.17"
  }
 },
 "nbformat": 4,
 "nbformat_minor": 5
}
