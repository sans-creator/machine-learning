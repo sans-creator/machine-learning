{
 "cells": [
  {
   "cell_type": "code",
   "execution_count": 5,
   "id": "037859b9",
   "metadata": {},
   "outputs": [
    {
     "name": "stdout",
     "output_type": "stream",
     "text": [
      "hi everyone \n",
      " we are learing filei\\o\n",
      " using python \n",
      " i like programming\n"
     ]
    }
   ],
   "source": [
    "with open(\"practice.txt\",'r') as f:\n",
    "    data=f.read()\n",
    "\n",
    "newdata=data.replace(\"java\",\"python\")\n",
    "print(newdata)\n",
    "\n",
    "with open(\"practice.txt\",'w') as f:\n",
    "    f.write(newdata)\n",
    "    "
   ]
  },
  {
   "cell_type": "code",
   "execution_count": 8,
   "id": "3d321a49",
   "metadata": {},
   "outputs": [
    {
     "name": "stdout",
     "output_type": "stream",
     "text": [
      "found\n"
     ]
    }
   ],
   "source": [
    "with open(\"practice.txt\",'r') as f:\n",
    "    data=f.read()\n",
    "    if(data.find(\"learing\")!=-1):\n",
    "        print(\"found\")\n",
    "    else:\n",
    "        print(\"not found\")    \n",
    "\n"
   ]
  },
  {
   "cell_type": "code",
   "execution_count": 16,
   "id": "09abe99a",
   "metadata": {},
   "outputs": [
    {
     "name": "stdout",
     "output_type": "stream",
     "text": [
      "name 'b' is not defined\n"
     ]
    }
   ],
   "source": [
    "try:\n",
    "    a=b\n",
    "    re=1/0\n",
    "except Exception as ex:\n",
    "    print(ex)\n",
    "\n"
   ]
  },
  {
   "cell_type": "code",
   "execution_count": 19,
   "id": "93bce7fb",
   "metadata": {},
   "outputs": [
    {
     "name": "stdout",
     "output_type": "stream",
     "text": [
      "invalid literal for int() with base 10: 'edd'\n"
     ]
    }
   ],
   "source": [
    "try:\n",
    "    a=int(input(\"enetr number:\"))\n",
    "    re=10/a\n",
    "except Exception as ex:\n",
    "    print(ex)    "
   ]
  },
  {
   "cell_type": "code",
   "execution_count": null,
   "id": "6c42a529",
   "metadata": {},
   "outputs": [],
   "source": []
  }
 ],
 "metadata": {
  "kernelspec": {
   "display_name": "Python 3",
   "language": "python",
   "name": "python3"
  },
  "language_info": {
   "codemirror_mode": {
    "name": "ipython",
    "version": 3
   },
   "file_extension": ".py",
   "mimetype": "text/x-python",
   "name": "python",
   "nbconvert_exporter": "python",
   "pygments_lexer": "ipython3",
   "version": "3.10.17"
  }
 },
 "nbformat": 4,
 "nbformat_minor": 5
}
