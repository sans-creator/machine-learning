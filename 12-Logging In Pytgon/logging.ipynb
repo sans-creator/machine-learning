{
 "cells": [
  {
   "cell_type": "code",
   "execution_count": 1,
   "id": "1fce842e",
   "metadata": {},
   "outputs": [
    {
     "name": "stderr",
     "output_type": "stream",
     "text": [
      "DEBUG:root:this is debug message\n",
      "INFO:root:this is info message\n",
      "WARNING:root:this is warning message\n",
      "ERROR:root:this is error message\n",
      "CRITICAL:root:this is critical message\n"
     ]
    }
   ],
   "source": [
    "import logging\n",
    "logging.basicConfig(level=logging.DEBUG)\n",
    "logging.debug(\"this is debug message\")\n",
    "logging.info(\"this is info message\")\n",
    "logging.warning(\"this is warning message\")\n",
    "logging.error(\"this is error message\")\n",
    "logging.critical(\"this is critical message\")\n"
   ]
  },
  {
   "cell_type": "code",
   "execution_count": 1,
   "id": "56139b14",
   "metadata": {},
   "outputs": [],
   "source": [
    "import logging\n",
    "logging.basicConfig(level=logging.DEBUG,filename='app.log',filemode='w',format='%(asctime)s - %(levelname)s - %(message)s'\n",
    "\n",
    "\n",
    ")\n",
    "logging.debug(\"this is debug message\")\n",
    "logging.info(\"this is info message\")\n",
    "logging.warning(\"this is warning message\")\n",
    "logging.error(\"this is error message\")\n",
    "logging.critical(\"this is critical message\")\n"
   ]
  },
  {
   "cell_type": "code",
   "execution_count": null,
   "id": "bb397a84",
   "metadata": {},
   "outputs": [],
   "source": []
  }
 ],
 "metadata": {
  "kernelspec": {
   "display_name": "Python 3",
   "language": "python",
   "name": "python3"
  },
  "language_info": {
   "codemirror_mode": {
    "name": "ipython",
    "version": 3
   },
   "file_extension": ".py",
   "mimetype": "text/x-python",
   "name": "python",
   "nbconvert_exporter": "python",
   "pygments_lexer": "ipython3",
   "version": "3.10.17"
  }
 },
 "nbformat": 4,
 "nbformat_minor": 5
}
