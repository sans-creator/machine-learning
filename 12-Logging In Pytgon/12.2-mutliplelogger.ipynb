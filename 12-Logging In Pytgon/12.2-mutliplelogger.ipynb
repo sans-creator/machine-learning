{
 "cells": [
  {
   "cell_type": "code",
   "execution_count": null,
   "id": "8c15e145",
   "metadata": {},
   "outputs": [],
   "source": [
    "import logging\n",
    "\n"
   ]
  }
 ],
 "metadata": {
  "kernelspec": {
   "display_name": "Python 3",
   "language": "python",
   "name": "python3"
  },
  "language_info": {
   "name": "python",
   "version": "3.10.17"
  }
 },
 "nbformat": 4,
 "nbformat_minor": 5
}
