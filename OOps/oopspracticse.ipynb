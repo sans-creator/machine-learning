{
 "cells": [
  {
   "cell_type": "code",
   "execution_count": 12,
   "id": "d6334c7c",
   "metadata": {},
   "outputs": [
    {
     "name": "stdout",
     "output_type": "stream",
     "text": [
      "adding new student in data base:\n",
      "sanskar\n",
      "100\n",
      "adding new student in data base:\n",
      "arjun\n",
      "90\n"
     ]
    }
   ],
   "source": [
    "class Student:\n",
    "     \n",
    "\n",
    "    def __init__(self,fullname,marks):\n",
    "        self.name=fullname\n",
    "        self.mark=marks\n",
    "        \n",
    "        print(\"adding new student in data base:\")\n",
    "    \n",
    "s1=Student(\"sanskar\",100)\n",
    "print(s1.name)\n",
    "print(s1.mark)\n",
    "\n",
    "s2=Student(\"arjun\",90)\n",
    "print(s2.name)\n",
    "print(s2.mark)\n"
   ]
  },
  {
   "cell_type": "code",
   "execution_count": null,
   "id": "606d8848",
   "metadata": {},
   "outputs": [
    {
     "name": "stdout",
     "output_type": "stream",
     "text": [
      "blue\n"
     ]
    }
   ],
   "source": [
    "class Car:\n",
    "    color=\"blue\"\n",
    "    brand=\"mercedes\"\n",
    "car1=Car()\n",
    "print(car1.color)    \n"
   ]
  },
  {
   "cell_type": "markdown",
   "id": "0ae64465",
   "metadata": {},
   "source": [
    "### default constructor"
   ]
  },
  {
   "cell_type": "code",
   "execution_count": null,
   "id": "750e8c49",
   "metadata": {},
   "outputs": [
    {
     "name": "stdout",
     "output_type": "stream",
     "text": [
      "adding new student in data base:\n",
      "sanskar\n",
      "100 manipal university\n",
      "adding new student in data base:\n",
      "arjun\n",
      "90\n"
     ]
    }
   ],
   "source": [
    "class Student:\n",
    "    college_name=\"manipal university\" #vlass attribute\n",
    "    #default construvtor\n",
    "    def __init__(self):\n",
    "        pass\n",
    "     \n",
    "        #parametrized constructor\n",
    "    def __init__(self,fullname,marks):\n",
    "        self.name=fullname #obj attribute\n",
    "        self.mark=marks\n",
    "        \n",
    "        print(\"adding new student in data base:\")\n",
    "    \n",
    "s1=Student(\"sanskar\",100)\n",
    "print(s1.name)\n",
    "print(s1.mark,s1.college_name)\n",
    "\n",
    "s2=Student(\"arjun\",90)\n",
    "print(s2.name)\n",
    "print(s2.mark)\n"
   ]
  },
  {
   "cell_type": "markdown",
   "id": "5c094460",
   "metadata": {},
   "source": [
    "##### class and obj attribute"
   ]
  },
  {
   "cell_type": "markdown",
   "id": "b6d18b07",
   "metadata": {},
   "source": [
    "class attribut- same for all obj eg: collge name for students"
   ]
  },
  {
   "cell_type": "markdown",
   "id": "29373f5b",
   "metadata": {},
   "source": [
    "### METHODS"
   ]
  },
  {
   "cell_type": "code",
   "execution_count": 19,
   "id": "9c6af382",
   "metadata": {},
   "outputs": [
    {
     "name": "stdout",
     "output_type": "stream",
     "text": [
      "hello sanskar\n",
      "your marks are 100\n"
     ]
    }
   ],
   "source": [
    "class Student:\n",
    "    def __init__(self,fullname,marks):\n",
    "        self.name=fullname\n",
    "        self.marks=marks\n",
    "    def hello(self):\n",
    "        print(\"hello\",self.name)    \n",
    "\n",
    "    def get_marks(self):\n",
    "        return self.marks    \n",
    "s1=Student(\"sanskar\",100)\n",
    "s1.hello()\n",
    "print(\"your marks are\",s1.get_marks())\n"
   ]
  },
  {
   "cell_type": "markdown",
   "id": "3ee1324e",
   "metadata": {},
   "source": [
    "create student class that takes name & marks of 3 subject as argument in constructor. then create a methos to print avergae"
   ]
  },
  {
   "cell_type": "code",
   "execution_count": 22,
   "id": "8784aef5",
   "metadata": {},
   "outputs": [
    {
     "name": "stdout",
     "output_type": "stream",
     "text": [
      "the avergae of sanskar marks are 95.0\n"
     ]
    }
   ],
   "source": [
    "class Student:\n",
    "    def __init__(self,name,mark1,mark2,mark3):\n",
    "        self.name=name\n",
    "        self.m1=mark1\n",
    "        self.m2=mark2\n",
    "        self.m3=mark3\n",
    "    def avg(self):\n",
    "        return (self.m1+self.m2+self.m3)/3    \n",
    "\n",
    "s1=Student(\"sanskar\",100,95,90)   \n",
    "print(\"the avergae of\", s1.name,\"marks are\",s1.avg())    \n",
    "\n"
   ]
  },
  {
   "cell_type": "markdown",
   "id": "e8a6089a",
   "metadata": {},
   "source": [
    "### method2\n",
    "passing argument as list"
   ]
  },
  {
   "cell_type": "code",
   "execution_count": 25,
   "id": "cd186b9c",
   "metadata": {},
   "outputs": [
    {
     "name": "stdout",
     "output_type": "stream",
     "text": [
      "the avergae of sanskar marks are 98.0\n"
     ]
    }
   ],
   "source": [
    "class Student:\n",
    "    def __init__(self,name,mark):\n",
    "        self.name=name\n",
    "        self.m1=mark\n",
    "      \n",
    "    def avg(self):\n",
    "        sum=0\n",
    "        for i in self.m1:\n",
    "            sum+=i\n",
    "        return sum/3    \n",
    "\n",
    "\n",
    "        \n",
    "\n",
    "s1=Student(\"sanskar\",[99,98,97])   \n",
    "print(\"the avergae of\", s1.name,\"marks are\",s1.avg())    \n",
    "\n"
   ]
  },
  {
   "cell_type": "markdown",
   "id": "d97c8cc0",
   "metadata": {},
   "source": [
    "### static methos"
   ]
  },
  {
   "cell_type": "code",
   "execution_count": null,
   "id": "86c6e94b",
   "metadata": {},
   "outputs": [
    {
     "name": "stdout",
     "output_type": "stream",
     "text": [
      "hello\n",
      "None\n"
     ]
    }
   ],
   "source": [
    "class Stu:\n",
    "    @staticmethod\n",
    "    def hello():\n",
    "        print(\"hello\")\n",
    "s1=Stu()\n",
    "print(s1.hello())        #yahan yeh none return karega"
   ]
  },
  {
   "cell_type": "markdown",
   "id": "bc226917",
   "metadata": {},
   "source": [
    "### ABSTRACTION"
   ]
  },
  {
   "cell_type": "code",
   "execution_count": null,
   "id": "b3bd8a63",
   "metadata": {},
   "outputs": [
    {
     "name": "stdout",
     "output_type": "stream",
     "text": [
      "car started..\n"
     ]
    }
   ],
   "source": [
    "#Example stering a car. all detals of initail and starting a car is hided and only car startrd is shown\n",
    "class Car:\n",
    "    def __init__(self):\n",
    "        self.ac=False\n",
    "        self.clutch=False\n",
    "        self.br=False\n",
    "    def start(self):\n",
    "        self.ac=True\n",
    "        self.clutch=True\n",
    "        print(\"car started..\")\n",
    "c1=Car()\n",
    "c1.start()        "
   ]
  },
  {
   "cell_type": "markdown",
   "id": "c2e4db7a",
   "metadata": {},
   "source": [
    "create account class with 2 attributs-balance and account number. create method for debit,credit and printing the balance"
   ]
  },
  {
   "cell_type": "code",
   "execution_count": 33,
   "id": "ce4e56a6",
   "metadata": {},
   "outputs": [
    {
     "name": "stdout",
     "output_type": "stream",
     "text": [
      "10000 12345\n",
      "rs 1000 was debited\n",
      "rs 5000 was debited\n"
     ]
    },
    {
     "data": {
      "text/plain": [
       "14000"
      ]
     },
     "execution_count": 33,
     "metadata": {},
     "output_type": "execute_result"
    }
   ],
   "source": [
    "class Account:\n",
    "    def __init__(self,bal,acc):\n",
    "        self.balance=bal\n",
    "        self.account_no=acc\n",
    "\n",
    "    def debit(self,amount):\n",
    "        self.balance-=amount\n",
    "        print(\"rs\",amount,\"was debited\")\n",
    "    def credit(self,amount):\n",
    "         self.balance+=amount\n",
    "\n",
    "         print(\"rs\",amount,\"was debited\")\n",
    "\n",
    "    def get_balance(self):\n",
    "        return self.balance\n",
    "\n",
    "acc1=Account(10000,12345)   \n",
    "print(acc1.balance,acc1.account_no)    \n",
    "acc1.debit(1000)\n",
    "acc1.credit(5000)\n",
    "acc1.get_balance()\n",
    "\n"
   ]
  },
  {
   "cell_type": "code",
   "execution_count": null,
   "id": "1ab1b86e",
   "metadata": {},
   "outputs": [],
   "source": []
  }
 ],
 "metadata": {
  "kernelspec": {
   "display_name": "Python 3",
   "language": "python",
   "name": "python3"
  },
  "language_info": {
   "codemirror_mode": {
    "name": "ipython",
    "version": 3
   },
   "file_extension": ".py",
   "mimetype": "text/x-python",
   "name": "python",
   "nbconvert_exporter": "python",
   "pygments_lexer": "ipython3",
   "version": "3.10.17"
  }
 },
 "nbformat": 4,
 "nbformat_minor": 5
}
