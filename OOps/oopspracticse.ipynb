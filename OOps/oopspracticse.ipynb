{
 "cells": [
  {
   "cell_type": "code",
   "execution_count": 12,
   "id": "d6334c7c",
   "metadata": {},
   "outputs": [
    {
     "name": "stdout",
     "output_type": "stream",
     "text": [
      "adding new student in data base:\n",
      "sanskar\n",
      "100\n",
      "adding new student in data base:\n",
      "arjun\n",
      "90\n"
     ]
    }
   ],
   "source": [
    "class Student:\n",
    "     \n",
    "\n",
    "    def __init__(self,fullname,marks):\n",
    "        self.name=fullname\n",
    "        self.mark=marks\n",
    "        \n",
    "        print(\"adding new student in data base:\")\n",
    "    \n",
    "s1=Student(\"sanskar\",100)\n",
    "print(s1.name)\n",
    "print(s1.mark)\n",
    "\n",
    "s2=Student(\"arjun\",90)\n",
    "print(s2.name)\n",
    "print(s2.mark)\n"
   ]
  },
  {
   "cell_type": "code",
   "execution_count": null,
   "id": "606d8848",
   "metadata": {},
   "outputs": [
    {
     "name": "stdout",
     "output_type": "stream",
     "text": [
      "blue\n"
     ]
    }
   ],
   "source": [
    "class Car:\n",
    "    color=\"blue\"\n",
    "    brand=\"mercedes\"\n",
    "car1=Car()\n",
    "print(car1.color)    \n"
   ]
  },
  {
   "cell_type": "markdown",
   "id": "0ae64465",
   "metadata": {},
   "source": [
    "### default constructor"
   ]
  },
  {
   "cell_type": "code",
   "execution_count": null,
   "id": "750e8c49",
   "metadata": {},
   "outputs": [
    {
     "name": "stdout",
     "output_type": "stream",
     "text": [
      "adding new student in data base:\n",
      "sanskar\n",
      "100 manipal university\n",
      "adding new student in data base:\n",
      "arjun\n",
      "90\n"
     ]
    }
   ],
   "source": [
    "class Student:\n",
    "    college_name=\"manipal university\" #vlass attribute\n",
    "    #default construvtor\n",
    "    def __init__(self):\n",
    "        pass\n",
    "     \n",
    "        #parametrized constructor\n",
    "    def __init__(self,fullname,marks):\n",
    "        self.name=fullname #obj attribute\n",
    "        self.mark=marks\n",
    "        \n",
    "        print(\"adding new student in data base:\")\n",
    "    \n",
    "s1=Student(\"sanskar\",100)\n",
    "print(s1.name)\n",
    "print(s1.mark,s1.college_name)\n",
    "\n",
    "s2=Student(\"arjun\",90)\n",
    "print(s2.name)\n",
    "print(s2.mark)\n"
   ]
  },
  {
   "cell_type": "markdown",
   "id": "5c094460",
   "metadata": {},
   "source": [
    "##### class and obj attribute"
   ]
  },
  {
   "cell_type": "markdown",
   "id": "b6d18b07",
   "metadata": {},
   "source": [
    "class attribut- same for all obj eg: collge name for students"
   ]
  },
  {
   "cell_type": "markdown",
   "id": "29373f5b",
   "metadata": {},
   "source": [
    "### METHODS"
   ]
  },
  {
   "cell_type": "code",
   "execution_count": 19,
   "id": "9c6af382",
   "metadata": {},
   "outputs": [
    {
     "name": "stdout",
     "output_type": "stream",
     "text": [
      "hello sanskar\n",
      "your marks are 100\n"
     ]
    }
   ],
   "source": [
    "class Student:\n",
    "    def __init__(self,fullname,marks):\n",
    "        self.name=fullname\n",
    "        self.marks=marks\n",
    "    def hello(self):\n",
    "        print(\"hello\",self.name)    \n",
    "\n",
    "    def get_marks(self):\n",
    "        return self.marks    \n",
    "s1=Student(\"sanskar\",100)\n",
    "s1.hello()\n",
    "print(\"your marks are\",s1.get_marks())\n"
   ]
  },
  {
   "cell_type": "markdown",
   "id": "3ee1324e",
   "metadata": {},
   "source": [
    "create student class that takes name & marks of 3 subject as argument in constructor. then create a methos to print avergae"
   ]
  },
  {
   "cell_type": "code",
   "execution_count": 22,
   "id": "8784aef5",
   "metadata": {},
   "outputs": [
    {
     "name": "stdout",
     "output_type": "stream",
     "text": [
      "the avergae of sanskar marks are 95.0\n"
     ]
    }
   ],
   "source": [
    "class Student:\n",
    "    def __init__(self,name,mark1,mark2,mark3):\n",
    "        self.name=name\n",
    "        self.m1=mark1\n",
    "        self.m2=mark2\n",
    "        self.m3=mark3\n",
    "    def avg(self):\n",
    "        return (self.m1+self.m2+self.m3)/3    \n",
    "\n",
    "s1=Student(\"sanskar\",100,95,90)   \n",
    "print(\"the avergae of\", s1.name,\"marks are\",s1.avg())    \n",
    "\n"
   ]
  },
  {
   "cell_type": "markdown",
   "id": "e8a6089a",
   "metadata": {},
   "source": [
    "### method2\n",
    "passing argument as list"
   ]
  },
  {
   "cell_type": "code",
   "execution_count": 25,
   "id": "cd186b9c",
   "metadata": {},
   "outputs": [
    {
     "name": "stdout",
     "output_type": "stream",
     "text": [
      "the avergae of sanskar marks are 98.0\n"
     ]
    }
   ],
   "source": [
    "class Student:\n",
    "    def __init__(self,name,mark):\n",
    "        self.name=name\n",
    "        self.m1=mark\n",
    "      \n",
    "    def avg(self):\n",
    "        sum=0\n",
    "        for i in self.m1:\n",
    "            sum+=i\n",
    "        return sum/3    \n",
    "\n",
    "\n",
    "        \n",
    "\n",
    "s1=Student(\"sanskar\",[99,98,97])   \n",
    "print(\"the avergae of\", s1.name,\"marks are\",s1.avg())    \n",
    "\n"
   ]
  },
  {
   "cell_type": "markdown",
   "id": "d97c8cc0",
   "metadata": {},
   "source": [
    "### static methos"
   ]
  },
  {
   "cell_type": "code",
   "execution_count": null,
   "id": "86c6e94b",
   "metadata": {},
   "outputs": [
    {
     "name": "stdout",
     "output_type": "stream",
     "text": [
      "hello\n",
      "None\n"
     ]
    }
   ],
   "source": [
    "class Stu:\n",
    "    @staticmethod\n",
    "    def hello():\n",
    "        print(\"hello\")\n",
    "s1=Stu()\n",
    "print(s1.hello())        #yahan yeh none return karega"
   ]
  },
  {
   "cell_type": "markdown",
   "id": "bc226917",
   "metadata": {},
   "source": [
    "### ABSTRACTION"
   ]
  },
  {
   "cell_type": "code",
   "execution_count": null,
   "id": "b3bd8a63",
   "metadata": {},
   "outputs": [
    {
     "name": "stdout",
     "output_type": "stream",
     "text": [
      "car started..\n"
     ]
    }
   ],
   "source": [
    "#Example stering a car. all detals of initail and starting a car is hided and only car startrd is shown\n",
    "class Car:\n",
    "    def __init__(self):\n",
    "        self.ac=False\n",
    "        self.clutch=False\n",
    "        self.br=False\n",
    "    def start(self):\n",
    "        self.ac=True\n",
    "        self.clutch=True\n",
    "        print(\"car started..\")\n",
    "c1=Car()\n",
    "c1.start()        "
   ]
  },
  {
   "cell_type": "markdown",
   "id": "c2e4db7a",
   "metadata": {},
   "source": [
    "create account class with 2 attributs-balance and account number. create method for debit,credit and printing the balance"
   ]
  },
  {
   "cell_type": "code",
   "execution_count": 33,
   "id": "ce4e56a6",
   "metadata": {},
   "outputs": [
    {
     "name": "stdout",
     "output_type": "stream",
     "text": [
      "10000 12345\n",
      "rs 1000 was debited\n",
      "rs 5000 was debited\n"
     ]
    },
    {
     "data": {
      "text/plain": [
       "14000"
      ]
     },
     "execution_count": 33,
     "metadata": {},
     "output_type": "execute_result"
    }
   ],
   "source": [
    "class Account:\n",
    "    def __init__(self,bal,acc):\n",
    "        self.balance=bal\n",
    "        self.account_no=acc\n",
    "\n",
    "    def debit(self,amount):\n",
    "        self.balance-=amount\n",
    "        print(\"rs\",amount,\"was debited\")\n",
    "    def credit(self,amount):\n",
    "         self.balance+=amount\n",
    "\n",
    "         print(\"rs\",amount,\"was debited\")\n",
    "\n",
    "    def get_balance(self):\n",
    "        return self.balance\n",
    "\n",
    "acc1=Account(10000,12345)   \n",
    "print(acc1.balance,acc1.account_no)    \n",
    "acc1.debit(1000)\n",
    "acc1.credit(5000)\n",
    "acc1.get_balance()\n",
    "\n"
   ]
  },
  {
   "cell_type": "code",
   "execution_count": 3,
   "id": "1ab1b86e",
   "metadata": {},
   "outputs": [
    {
     "name": "stdout",
     "output_type": "stream",
     "text": [
      "<__main__.Stu object at 0x000002063AA18970>\n"
     ]
    },
    {
     "ename": "NameError",
     "evalue": "name 's1' is not defined",
     "output_type": "error",
     "traceback": [
      "\u001b[1;31m---------------------------------------------------------------------------\u001b[0m",
      "\u001b[1;31mNameError\u001b[0m                                 Traceback (most recent call last)",
      "Cell \u001b[1;32mIn[3], line 7\u001b[0m\n\u001b[0;32m      5\u001b[0m \u001b[38;5;28mprint\u001b[39m(s1)\n\u001b[0;32m      6\u001b[0m \u001b[38;5;28;01mdel\u001b[39;00m s1\n\u001b[1;32m----> 7\u001b[0m \u001b[38;5;28mprint\u001b[39m(\u001b[43ms1\u001b[49m)        \n",
      "\u001b[1;31mNameError\u001b[0m: name 's1' is not defined"
     ]
    }
   ],
   "source": [
    "class Stu:\n",
    "    def __init__(self,name):\n",
    "        self.name=name\n",
    "s1=Stu(\"sanskar\")\n",
    "print(s1)\n",
    "del s1\n",
    "print(s1)        \n"
   ]
  },
  {
   "cell_type": "markdown",
   "id": "0a8bf8ad",
   "metadata": {},
   "source": [
    "### Private"
   ]
  },
  {
   "cell_type": "code",
   "execution_count": 8,
   "id": "d5c04529",
   "metadata": {},
   "outputs": [
    {
     "name": "stdout",
     "output_type": "stream",
     "text": [
      "12345\n",
      "abcd\n"
     ]
    }
   ],
   "source": [
    "class Acc:\n",
    "    def __init__(self,acc_no,acc_pass):\n",
    "        self.acc_no=acc_no\n",
    "        self.__acc_pass=acc_pass\n",
    "    def reset_pass(self):\n",
    "        print(self.__acc_pass)    \n",
    "\n",
    "acc1=Acc(\"12345\",\"abcd\")\n",
    "print(acc1.acc_no)\n",
    "acc1.reset_pass()\n"
   ]
  },
  {
   "cell_type": "markdown",
   "id": "84273cae",
   "metadata": {},
   "source": [
    "### INHERITENCE"
   ]
  },
  {
   "cell_type": "code",
   "execution_count": 3,
   "id": "f9a10b3e",
   "metadata": {},
   "outputs": [
    {
     "name": "stdout",
     "output_type": "stream",
     "text": [
      "car started\n",
      "None\n"
     ]
    }
   ],
   "source": [
    "class Car:\n",
    "    @staticmethod\n",
    "    def start():\n",
    "        print(\"car started\")\n",
    "\n",
    "    @staticmethod\n",
    "    def stop():\n",
    "        print(\"car stopped\")\n",
    "class toyotacar(Car):\n",
    "    def __init__(self,name):\n",
    "        self.name=name\n",
    "              \n",
    "car1=toyotacar(\"fortuner\")\n",
    "car2=toyotacar(\"prius\")              \n",
    "print(car1.start())"
   ]
  },
  {
   "cell_type": "code",
   "execution_count": 8,
   "id": "cc7a5eb2",
   "metadata": {},
   "outputs": [
    {
     "name": "stdout",
     "output_type": "stream",
     "text": [
      "car started\n",
      "car stopped\n"
     ]
    }
   ],
   "source": [
    "##mutlilevel inheritence\n",
    "class Car:\n",
    "    @staticmethod\n",
    "    def start():\n",
    "        print(\"car started\")\n",
    "\n",
    "    @staticmethod\n",
    "    def stop():\n",
    "        print(\"car stopped\")\n",
    "class toyotacar(Car):\n",
    "    def __init__(self,brand):\n",
    "        self.brand=brand\n",
    "\n",
    "class fortuner(toyotacar):\n",
    "    def __init__(self,type):\n",
    "        self.type=type\n",
    "\n",
    "car1=fortuner(\"diesel\")\n",
    "car1.start()\n",
    "car1.stop()"
   ]
  },
  {
   "cell_type": "markdown",
   "id": "9a1b6b96",
   "metadata": {},
   "source": [
    "### Mutliple inhertince"
   ]
  },
  {
   "cell_type": "code",
   "execution_count": 9,
   "id": "05978a48",
   "metadata": {},
   "outputs": [
    {
     "name": "stdout",
     "output_type": "stream",
     "text": [
      "welcome to class A\n",
      "welcome to b\n"
     ]
    }
   ],
   "source": [
    "class A:\n",
    "    varA=\"welcome to class A\"\n",
    "class B:\n",
    "    varB=\"welcome to b\"\n",
    "\n",
    "class C(A,B):\n",
    "    varC=\"welcome to class C\"\n",
    "\n",
    "c1=C()\n",
    "print(c1.varA)\n",
    "print(c1.varB)    \n"
   ]
  },
  {
   "cell_type": "code",
   "execution_count": 11,
   "id": "3b7f9a17",
   "metadata": {},
   "outputs": [
    {
     "name": "stdout",
     "output_type": "stream",
     "text": [
      "electric\n"
     ]
    }
   ],
   "source": [
    "class Car:\n",
    "    def __init__(self,type):\n",
    "        self.type=type\n",
    "    @staticmethod\n",
    "    def start():\n",
    "        print(\"car started\")\n",
    "\n",
    "    @staticmethod\n",
    "    def stop():\n",
    "        print(\"car stopped\")\n",
    "class toyotacar(Car):\n",
    "    def __init__(self,name,type):\n",
    "        self.name=name\n",
    "        super().__init__(type)\n",
    "\n",
    "              \n",
    "car1=toyotacar(\"peris\",\"electric\")\n",
    "print(car1.type)"
   ]
  },
  {
   "cell_type": "markdown",
   "id": "a9aa81c1",
   "metadata": {},
   "source": [
    "@property"
   ]
  },
  {
   "cell_type": "code",
   "execution_count": 15,
   "id": "504a7a51",
   "metadata": {},
   "outputs": [
    {
     "name": "stdout",
     "output_type": "stream",
     "text": [
      "94.66666666666667%\n",
      "88.66666666666667%\n"
     ]
    }
   ],
   "source": [
    "class Stu:\n",
    "    def __init__(self,phy,chem,math):\n",
    "        self.phy=phy\n",
    "        self.chem=chem\n",
    "        self.math=math\n",
    "\n",
    "\n",
    "    @property\n",
    "    def percentage(self):\n",
    "        return str((self.phy+self.math+self.chem)/3)+\"%\"\n",
    "    \n",
    "s1=Stu(98,99,87)\n",
    "print(s1.percentage)\n",
    "s1.phy=80\n",
    "print(s1.percentage)    \n",
    "\n"
   ]
  },
  {
   "cell_type": "code",
   "execution_count": 19,
   "id": "775b93ba",
   "metadata": {},
   "outputs": [
    {
     "name": "stdout",
     "output_type": "stream",
     "text": [
      "2 i+ 4 j\n",
      "3 i+ 4 j\n",
      "5 i+ 8 j\n"
     ]
    }
   ],
   "source": [
    "class Complex:\n",
    "    def __init__(self,real,imag):\n",
    "        self.imag=imag\n",
    "        self.real=real\n",
    "\n",
    "    def show(self):\n",
    "        print(self.real,\"i+\",self.imag,\"j\") \n",
    "\n",
    "    def add(self,num2):\n",
    "        newReal=self.real+num2.real\n",
    "        newImg=self.imag+num2.imag\n",
    "        return Complex(newReal,newImg) \n",
    "\n",
    "    def __add__(self,num2):\n",
    "        newReal=self.real+num2.real\n",
    "        newImg=self.imag+num2.imag\n",
    "        return Complex(newReal,newImg) \n",
    "\n",
    "num1=Complex(2,4)\n",
    "num2=Complex(3,4)    \n",
    "num1.show()\n",
    "num2.show()\n",
    "\n",
    "num3= num1+num2\n",
    "num3.show()\n",
    "        "
   ]
  },
  {
   "cell_type": "code",
   "execution_count": null,
   "id": "f106f66e",
   "metadata": {},
   "outputs": [],
   "source": []
  }
 ],
 "metadata": {
  "kernelspec": {
   "display_name": "Python 3",
   "language": "python",
   "name": "python3"
  },
  "language_info": {
   "codemirror_mode": {
    "name": "ipython",
    "version": 3
   },
   "file_extension": ".py",
   "mimetype": "text/x-python",
   "name": "python",
   "nbconvert_exporter": "python",
   "pygments_lexer": "ipython3",
   "version": "3.10.17"
  }
 },
 "nbformat": 4,
 "nbformat_minor": 5
}
